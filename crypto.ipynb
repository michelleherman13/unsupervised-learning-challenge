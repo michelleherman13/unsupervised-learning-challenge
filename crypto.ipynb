{
 "cells": [
  {
   "cell_type": "markdown",
   "id": "3a59203f",
   "metadata": {},
   "source": [
    "# Cryptocurrency Clusters"
   ]
  },
  {
   "cell_type": "code",
   "execution_count": 22,
   "id": "dc7950d6",
   "metadata": {},
   "outputs": [],
   "source": [
    "#imports\n",
    "import pandas as pd"
   ]
  },
  {
   "cell_type": "markdown",
   "id": "e5f20d53",
   "metadata": {},
   "source": [
    "## Data Preparation"
   ]
  },
  {
   "cell_type": "code",
   "execution_count": 23,
   "id": "a4ebe646",
   "metadata": {},
   "outputs": [],
   "source": [
    "#read csv\n",
    "crypto_file=\"crypto_data.csv\""
   ]
  },
  {
   "cell_type": "code",
   "execution_count": 24,
   "id": "a31c4837",
   "metadata": {},
   "outputs": [
    {
     "data": {
      "text/html": [
       "<div>\n",
       "<style scoped>\n",
       "    .dataframe tbody tr th:only-of-type {\n",
       "        vertical-align: middle;\n",
       "    }\n",
       "\n",
       "    .dataframe tbody tr th {\n",
       "        vertical-align: top;\n",
       "    }\n",
       "\n",
       "    .dataframe thead th {\n",
       "        text-align: right;\n",
       "    }\n",
       "</style>\n",
       "<table border=\"1\" class=\"dataframe\">\n",
       "  <thead>\n",
       "    <tr style=\"text-align: right;\">\n",
       "      <th></th>\n",
       "      <th>Unnamed: 0</th>\n",
       "      <th>CoinName</th>\n",
       "      <th>Algorithm</th>\n",
       "      <th>IsTrading</th>\n",
       "      <th>ProofType</th>\n",
       "      <th>TotalCoinsMined</th>\n",
       "      <th>TotalCoinSupply</th>\n",
       "    </tr>\n",
       "  </thead>\n",
       "  <tbody>\n",
       "    <tr>\n",
       "      <th>0</th>\n",
       "      <td>42</td>\n",
       "      <td>42 Coin</td>\n",
       "      <td>Scrypt</td>\n",
       "      <td>True</td>\n",
       "      <td>PoW/PoS</td>\n",
       "      <td>4.199995e+01</td>\n",
       "      <td>42</td>\n",
       "    </tr>\n",
       "    <tr>\n",
       "      <th>1</th>\n",
       "      <td>365</td>\n",
       "      <td>365Coin</td>\n",
       "      <td>X11</td>\n",
       "      <td>True</td>\n",
       "      <td>PoW/PoS</td>\n",
       "      <td>NaN</td>\n",
       "      <td>2300000000</td>\n",
       "    </tr>\n",
       "    <tr>\n",
       "      <th>2</th>\n",
       "      <td>404</td>\n",
       "      <td>404Coin</td>\n",
       "      <td>Scrypt</td>\n",
       "      <td>True</td>\n",
       "      <td>PoW/PoS</td>\n",
       "      <td>1.055185e+09</td>\n",
       "      <td>532000000</td>\n",
       "    </tr>\n",
       "    <tr>\n",
       "      <th>3</th>\n",
       "      <td>611</td>\n",
       "      <td>SixEleven</td>\n",
       "      <td>SHA-256</td>\n",
       "      <td>True</td>\n",
       "      <td>PoW</td>\n",
       "      <td>NaN</td>\n",
       "      <td>611000</td>\n",
       "    </tr>\n",
       "    <tr>\n",
       "      <th>4</th>\n",
       "      <td>808</td>\n",
       "      <td>808</td>\n",
       "      <td>SHA-256</td>\n",
       "      <td>True</td>\n",
       "      <td>PoW/PoS</td>\n",
       "      <td>0.000000e+00</td>\n",
       "      <td>0</td>\n",
       "    </tr>\n",
       "  </tbody>\n",
       "</table>\n",
       "</div>"
      ],
      "text/plain": [
       "  Unnamed: 0   CoinName Algorithm  IsTrading ProofType  TotalCoinsMined  \\\n",
       "0         42    42 Coin    Scrypt       True   PoW/PoS     4.199995e+01   \n",
       "1        365    365Coin       X11       True   PoW/PoS              NaN   \n",
       "2        404    404Coin    Scrypt       True   PoW/PoS     1.055185e+09   \n",
       "3        611  SixEleven   SHA-256       True       PoW              NaN   \n",
       "4        808        808   SHA-256       True   PoW/PoS     0.000000e+00   \n",
       "\n",
       "  TotalCoinSupply  \n",
       "0              42  \n",
       "1      2300000000  \n",
       "2       532000000  \n",
       "3          611000  \n",
       "4               0  "
      ]
     },
     "execution_count": 24,
     "metadata": {},
     "output_type": "execute_result"
    }
   ],
   "source": [
    "#Load data\n",
    "df=pd.read_csv(crypto_file)\n",
    "df.head()"
   ]
  },
  {
   "cell_type": "code",
   "execution_count": 25,
   "id": "4df2e9fe",
   "metadata": {},
   "outputs": [],
   "source": [
    "#Discard all cryptocurrencies that are not being traded"
   ]
  },
  {
   "cell_type": "code",
   "execution_count": 26,
   "id": "cdd6e15c",
   "metadata": {},
   "outputs": [],
   "source": [
    "#Remove all rows that have at least one null value."
   ]
  },
  {
   "cell_type": "code",
   "execution_count": 27,
   "id": "9ec8fe31",
   "metadata": {},
   "outputs": [],
   "source": [
    "#Filter for cryptocurrencies that have been mined. That is, the total coins mined should be greater than zero."
   ]
  },
  {
   "cell_type": "code",
   "execution_count": 28,
   "id": "b4ecf473",
   "metadata": {},
   "outputs": [],
   "source": [
    "#In order for your dataset to be comprehensible to a machine learning algorithm, its data should be numeric. \n",
    "#Since the coin names do not contribute to the analysis of the data, \n",
    "#delete the CoinName from the original dataframe."
   ]
  },
  {
   "cell_type": "code",
   "execution_count": 29,
   "id": "991a83e9",
   "metadata": {},
   "outputs": [],
   "source": [
    "#Your next step in data preparation is to convert the remaining features with text values, Algorithm and ProofType, \n",
    "#into numerical data. To accomplish this task, use Pandas to create dummy variables. Examine the number of rows and \n",
    "#columns of your dataset now. How did they change?"
   ]
  },
  {
   "cell_type": "code",
   "execution_count": null,
   "id": "af4679a9",
   "metadata": {},
   "outputs": [],
   "source": [
    "#Standardize your dataset so that columns that contain larger values do not unduly influence the outcome."
   ]
  },
  {
   "cell_type": "markdown",
   "id": "de610c7b",
   "metadata": {},
   "source": [
    "## Dimensionality Reduction"
   ]
  },
  {
   "cell_type": "code",
   "execution_count": 31,
   "id": "d4065ee5",
   "metadata": {},
   "outputs": [],
   "source": [
    "#Creating dummy variables above dramatically increased the number of features in your dataset. Perform dimensionality \n",
    "#reduction with PCA. Rather than specify the number of principal components when you instantiate the PCA model, it is \n",
    "#possible to state the desired explained variance. For example, say that a dataset has 100 features. Using \n",
    "#PCA(n_components=0.99) creates a model that will preserve approximately 99% of the explained variance, whether that \n",
    "#means reducing the dataset to 80 principal components or 3. For this project, preserve 90% of the explained variance \n",
    "#in dimensionality reduction. How did the number of the features change?"
   ]
  },
  {
   "cell_type": "code",
   "execution_count": 32,
   "id": "9e08d3f9",
   "metadata": {},
   "outputs": [],
   "source": [
    "#Next, further reduce the dataset dimensions with t-SNE and visually inspect the results. In order to accomplish this \n",
    "#task, run t-SNE on the principal components: the output of the PCA transformation. Then create a scatter plot of the \n",
    "#t-SNE output. Observe whether there are distinct clusters or not."
   ]
  },
  {
   "cell_type": "markdown",
   "id": "fae927aa",
   "metadata": {},
   "source": [
    "## Cluster analysis with k-means"
   ]
  },
  {
   "cell_type": "code",
   "execution_count": null,
   "id": "e5e7fad9",
   "metadata": {},
   "outputs": [],
   "source": [
    "#Create an elbow plot to identify the best number of clusters. Use a for-loop to determine the inertia for each k \n",
    "#between 1 through 10. Determine, if possible, where the elbow of the plot is, and at which value of k it \n",
    "#appears."
   ]
  },
  {
   "cell_type": "markdown",
   "id": "cf44edfe",
   "metadata": {},
   "source": [
    "## Recommendation "
   ]
  },
  {
   "cell_type": "code",
   "execution_count": 35,
   "id": "267b8808",
   "metadata": {},
   "outputs": [],
   "source": [
    "#Based on your findings, make a brief (1-2 sentences) recommendation to your clients. Can the cryptocurrencies be \n",
    "#clustered together? If so, into how many clusters?"
   ]
  }
 ],
 "metadata": {
  "kernelspec": {
   "display_name": "Python [conda env:PythonData] *",
   "language": "python",
   "name": "conda-env-PythonData-py"
  },
  "language_info": {
   "codemirror_mode": {
    "name": "ipython",
    "version": 3
   },
   "file_extension": ".py",
   "mimetype": "text/x-python",
   "name": "python",
   "nbconvert_exporter": "python",
   "pygments_lexer": "ipython3",
   "version": "3.7.11"
  }
 },
 "nbformat": 4,
 "nbformat_minor": 5
}
